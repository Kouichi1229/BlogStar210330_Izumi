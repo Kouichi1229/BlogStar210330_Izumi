{
  "nbformat": 4,
  "nbformat_minor": 0,
  "metadata": {
    "colab": {
      "name": "weather_alert.ipynb",
      "provenance": [],
      "include_colab_link": true
    },
    "kernelspec": {
      "name": "python3",
      "display_name": "Python 3"
    },
    "language_info": {
      "name": "python"
    }
  },
  "cells": [
    {
      "cell_type": "markdown",
      "metadata": {
        "id": "view-in-github",
        "colab_type": "text"
      },
      "source": [
        "<a href=\"https://colab.research.google.com/github/Kouichi1229/BlogStar210330_Izumi/blob/main/weather_alert.ipynb\" target=\"_parent\"><img src=\"https://colab.research.google.com/assets/colab-badge.svg\" alt=\"Open In Colab\"/></a>"
      ]
    },
    {
      "cell_type": "code",
      "execution_count": null,
      "metadata": {
        "id": "hLUQN9xkhidK"
      },
      "outputs": [],
      "source": [
        "import json as js\n",
        "import requests\n",
        "\n",
        "# 低溫: \"https://alerts.ncdr.nat.gov.tw/JSONAtomFeed.ashx?AlertType=1060\"\n",
        "# 降雨: \"https://alerts.ncdr.nat.gov.tw/JSONAtomFeed.ashx?AlertType=10\"\n",
        "dic_url ={\n",
        "    \"low_temp\": \"https://alerts.ncdr.nat.gov.tw/JSONAtomFeed.ashx?AlertType=1060\",\n",
        "    'rain': \"https://alerts.ncdr.nat.gov.tw/JSONAtomFeed.ashx?AlertType=10\"\n",
        "\n",
        "}"
      ]
    },
    {
      "cell_type": "code",
      "source": [
        "summary_low_temp_0 = base['entry'][-1]['summary']['#text']\n",
        "summary_low_temp_1 = base['entry'][-1]['summary']['#text']"
      ],
      "metadata": {
        "id": "tMShfeT1jxQ-"
      },
      "execution_count": null,
      "outputs": []
    },
    {
      "cell_type": "code",
      "source": [
        "def grab_alert(url):\n",
        "  import json as js\n",
        "  import requests\n",
        "\n",
        "  # url = \"https://alerts.ncdr.nat.gov.tw/JSONAtomFeed.ashx?AlertType=1060\"\n",
        "  base = requests.get(url)\n",
        "  base_txt = js.loads(base.text)\n",
        "  # summary_low_temp_0 = base['entry'][-1]['summary']['#text']\n",
        "  return base_txt\n",
        "\n",
        "# def identify(summary_low_temp_0):\n",
        "#   summary_low_temp_1 = grab_alert()\n",
        "#   if summary_low_temp_0 != summary_low_temp_1:\n",
        "#     summary_low_temp_0 = grab_alert()\n",
        "#   return summary_low_temp_0\n",
        "\n",
        "def check(base):\n",
        "  import json as js\n",
        "  length = len(base['entry'])\n",
        "  for i in range(length):\n",
        "    text = base['entry'][i]['summary']['#text']\n",
        "    if '屏東' in text or '恆春' in text:\n",
        "      a = base['entry'][i]['summary']['#text']\n",
        "  print(\"a:\", a)\n",
        "  return a"
      ],
      "metadata": {
        "id": "qHqJkZsAmcdP"
      },
      "execution_count": null,
      "outputs": []
    },
    {
      "cell_type": "markdown",
      "source": [
        "# 抓取突發預警系統"
      ],
      "metadata": {
        "id": "K-HmPh6Bmsmt"
      }
    },
    {
      "cell_type": "code",
      "source": [
        "try:\n",
        "  base_txt = grab_alert(dic_url['low_temp'])\n",
        "  check(base = base_txt)\n",
        "except:\n",
        "  pass\n",
        "finally:\n",
        "  a = None\n",
        "print(a)"
      ],
      "metadata": {
        "colab": {
          "base_uri": "https://localhost:8080/"
        },
        "id": "vXkgRh8GaViz",
        "outputId": "19ea08e4-53bf-4f87-d4ce-8ecdca5a915e"
      },
      "execution_count": null,
      "outputs": [
        {
          "output_type": "stream",
          "name": "stdout",
          "text": [
            "None\n"
          ]
        }
      ]
    },
    {
      "cell_type": "code",
      "source": [
        "import requests \n",
        "import json as js\n",
        "url = \"https://alerts.ncdr.nat.gov.tw/JSONAtomFeed.ashx?AlertType=10\"\n",
        "  \n",
        "base = requests.get(url)\n",
        "base = js.loads(base.text)\n",
        "summary_low_temp_0 = base['entry'][-1]['summary']['#text']\n"
      ],
      "metadata": {
        "colab": {
          "base_uri": "https://localhost:8080/",
          "height": 35
        },
        "id": "13Fjfz8nSJbx",
        "outputId": "6e3b137f-7599-4efe-ced3-5328a1fbbe6c"
      },
      "execution_count": null,
      "outputs": [
        {
          "output_type": "execute_result",
          "data": {
            "application/vnd.google.colaboratory.intrinsic+json": {
              "type": "string"
            },
            "text/plain": [
              "'\\n臺北市山區已有大雨發生，降雨趨於緩和，發生大雨的機率降低，故解除大雨特報。\\n        '"
            ]
          },
          "metadata": {},
          "execution_count": 3
        }
      ]
    }
  ]
}